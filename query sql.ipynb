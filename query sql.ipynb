{
 "cells": [
  {
   "cell_type": "code",
   "execution_count": null,
   "metadata": {},
   "outputs": [],
   "source": [
    "%%sql\n",
    "postgresql:///animal_shelters\n",
    "\n",
    "WITH ani AS (\n",
    "SELECT \n",
    "    a.animaltype AS animaltype,\n",
    "    a.birthdate AS birthdate,\n",
    "    a.location AS location,\n",
    "    (CASE WHEN a.animaltype = 'Dog' AND weight <= 10 THEN 'Small'\n",
    "          WHEN a.animaltype = 'Dog' AND weight > 10 AND weight <= 30 THEN 'Medium'\n",
    "          WHEN a.animaltype = 'Dog' AND weight > 30 THEN 'Large'\n",
    "          WHEN a.animaltype = 'Cat' AND weight <= 5 THEN 'Small'\n",
    "          WHEN a.animaltype = 'Cat' AND weight > 5 AND weight <= 7 THEN 'Medium'\n",
    "          WHEN a.animaltype = 'Cat' AND weight > 7 THEN 'Large'\n",
    "          WHEN a.animaltype = 'Bird' AND weight <= 0.7 THEN 'Small'\n",
    "          WHEN a.animaltype = 'Bird' AND weight > 0.7 AND weight <= 1.1 THEN 'Medium'\n",
    "          ELSE 'Large' \n",
    "     END\n",
    "    ) AS size,\n",
    "    (date '2020-12-31' - TO_DATE(birthdate, 'MM/DD/YYYY') )/365 AS age\n",
    "FROM animals AS a\n",
    "LEFT JOIN sponsored_animals AS sp\n",
    "ON a.animalid = sp.sponsorid\n",
    "WHERE sponsorid IS NULL)\n",
    "\n",
    "SELECT  a.animaltype,\n",
    "        a.size,\n",
    "        (lc.costs + sc.costs + ac.costs) AS total,\n",
    "        ROUND(sc.costs * 100.0 / (lc.costs + sc.costs + ac.costs),2) AS percentage\n",
    "FROM ani AS a\n",
    "LEFT JOIN size_costs AS sc\n",
    "ON a.animaltype = sc.animaltype AND a.size = sc.size\n",
    "LEFT JOIN location_costs AS lc\n",
    "ON a.location = lc.location\n",
    "LEFT JOIN age_costs AS ac\n",
    "ON ac.age LIKE CAST(a.age AS varchar(5))\n",
    "WHERE a.size IN ('Small', 'Medium','Large')\n",
    "ORDER  BY animaltype,\n",
    "        CASE when a.size = 'Small' then 1\n",
    "            when a.size = 'Medium' then 2\n",
    "            when a.size = 'Large' then 3\n",
    "            ELSE NULL \n",
    "        END"
   ]
  }
 ],
 "metadata": {
  "kernelspec": {
   "display_name": "Python 3",
   "language": "python",
   "name": "python3"
  },
  "language_info": {
   "codemirror_mode": {
    "name": "ipython",
    "version": 3
   },
   "file_extension": ".py",
   "mimetype": "text/x-python",
   "name": "python",
   "nbconvert_exporter": "python",
   "pygments_lexer": "ipython3",
   "version": "3.8.5"
  }
 },
 "nbformat": 4,
 "nbformat_minor": 4
}
